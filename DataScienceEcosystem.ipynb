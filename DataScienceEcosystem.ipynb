{
 "cells": [
  {
   "cell_type": "code",
   "execution_count": null,
   "id": "a7a64453-cfb2-401f-a5af-59eba68329b4",
   "metadata": {},
   "outputs": [],
   "source": []
  },
  {
   "cell_type": "markdown",
   "id": "289e2403-6fdb-4b2a-98f9-9fd5abe5d064",
   "metadata": {},
   "source": [
    "# Data Science Tools and Ecosystem"
   ]
  },
  {
   "cell_type": "markdown",
   "id": "a41d2616-4db3-434c-875b-a32d2f59a78a",
   "metadata": {},
   "source": [
    "### Data science introduction\n",
    "In this notebook, Data Science Tools and Ecosystem are summarized."
   ]
  },
  {
   "cell_type": "markdown",
   "id": "d9f98580-007b-4efe-a627-0dfa9b839778",
   "metadata": {},
   "source": [
    "# list data science languages\n",
    "1. First item\n",
    "2. Second item\n",
    "3. Third item\n",
    "4. Fourth item"
   ]
  },
  {
   "cell_type": "markdown",
   "id": "3f845f82-6044-478b-b32e-287cf4c9e35d",
   "metadata": {},
   "source": [
    "## Data science libraries:\n",
    "Some of the commonly used libraries used by Data Scientists include\n",
    "1. numpy\n",
    "2. pandas\n",
    "3. scikit-learn\n",
    "4. matplotlib\n",
    "5. seaborn"
   ]
  },
  {
   "cell_type": "markdown",
   "id": "a02361e0-c694-4e55-af0f-f6301ccc5d4a",
   "metadata": {},
   "source": [
    "## Datascience tools\n",
    "| Tool Name        | Description                                    | Website                            |\n",
    "|------------------|------------------------------------------------|------------------------------------|\n",
    "| Jupyter Notebook | Interactive computing environment             | https://jupyter.org                |\n",
    "| Pandas           | Data manipulation and analysis library        | https://pandas.pydata.org          |\n",
    "| NumPy            | Numerical computing library                    | https://numpy.org                  |\n",
    "| Scikit-learn     | Machine learning library                       | https://scikit-learn.org           |\n",
    "| TensorFlow       | Machine learning framework                     | https://www.tensorflow.org         |\n",
    "| Keras            | Neural networks library                        | https://keras.io                   |\n",
    "| Matplotlib       | Plotting library                               | https://matplotlib.org             |\n",
    "| Seaborn          | Statistical data visualization                | https://seaborn.pydata.org         |\n",
    "| Plotly           | Interactive plots                              | https://plotly.com                 |\n",
    "| SciPy            | Scientific computing library                   | https://www.scipy.org              |\n"
   ]
  },
  {
   "cell_type": "markdown",
   "id": "3dcd2ade-b633-4f3f-99ef-3dc0454d6a69",
   "metadata": {},
   "source": [
    "#  introducing arithmetic expression examples\n",
    "### Below are a few examples of evaluating arithmetic expressions in Python\n",
    "3+5\n"
   ]
  },
  {
   "cell_type": "code",
   "execution_count": 2,
   "id": "18cd62a8-00a2-4968-9b13-ec4a24001db2",
   "metadata": {},
   "outputs": [
    {
     "name": "stdout",
     "output_type": "stream",
     "text": [
      "17\n"
     ]
    }
   ],
   "source": [
    "#This a simple arithmetic expression to mutiply then add integers\n",
    "exp=(3*4)+5\n",
    "print(exp)"
   ]
  },
  {
   "cell_type": "code",
   "execution_count": 3,
   "id": "43c9e1c1-83f1-43ca-93a2-082befd6155c",
   "metadata": {},
   "outputs": [
    {
     "name": "stdin",
     "output_type": "stream",
     "text": [
      "enter the min 200\n"
     ]
    },
    {
     "name": "stdout",
     "output_type": "stream",
     "text": [
      "hr = 3.3333333333333335\n"
     ]
    }
   ],
   "source": [
    "#This will convert 200 minutes to hours by diving by 60\n",
    "min=int(input(\"enter the min\"))\n",
    "hr=min/60\n",
    "print(\"hr =\",hr)"
   ]
  },
  {
   "cell_type": "markdown",
   "id": "beff7670-148f-4a29-880c-904f780ed309",
   "metadata": {},
   "source": [
    "# list Objectives\n",
    "**Objectives:**\n",
    "\n",
    "- List popular languages for Data Science.\n",
    "- Introduce fundamental libraries like NumPy and Pandas.\n",
    "- Demonstrate basic data visualization using Matplotlib.\n",
    "- Discuss machine learning with Scikit-learn.\n"
   ]
  },
  {
   "cell_type": "markdown",
   "id": "f5c83773-247e-430a-b53a-ffb43b670737",
   "metadata": {},
   "source": [
    "## Author\n",
    "\n",
    "Dipa Thakkar\n"
   ]
  },
  {
   "cell_type": "code",
   "execution_count": null,
   "id": "4a5414a2-9b3a-421b-a017-9eaec81e340c",
   "metadata": {},
   "outputs": [],
   "source": []
  }
 ],
 "metadata": {
  "kernelspec": {
   "display_name": "Python 3 (ipykernel)",
   "language": "python",
   "name": "python3"
  },
  "language_info": {
   "codemirror_mode": {
    "name": "ipython",
    "version": 3
   },
   "file_extension": ".py",
   "mimetype": "text/x-python",
   "name": "python",
   "nbconvert_exporter": "python",
   "pygments_lexer": "ipython3",
   "version": "3.12.2"
  }
 },
 "nbformat": 4,
 "nbformat_minor": 5
}
